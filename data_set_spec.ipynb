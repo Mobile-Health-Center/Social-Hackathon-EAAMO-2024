{
 "cells": [
  {
   "cell_type": "markdown",
   "id": "560d2084-1a03-41c6-a4f8-c8755a618908",
   "metadata": {},
   "source": [
    "## EAAMO'24 data set specifications\n",
    "\n",
    "\n",
    "The **EAAMO'24** Social Hackathon dataset is organized into five sections:\n",
    "\n",
    "- **Geostatistical Cartography:** Located in the **geometry** folder.\n",
    "- **Industrial Emissions:** Located in the **emissions** folder.\n",
    "- **Stationary Air Pollution Sources:** Located in the **stationary pollution sources** folder.\n",
    "- **Stationary Fuel Emission Sources:** Located in the **stationary fuel pollution sources** folder.\n",
    "- **Breast Cancer Data:** Located in the **bc_data** folder.\n",
    "\n",
    "Here, we describe the contents of each section.\n",
    "\n",
    "### 1.1 Geostatistical Cartography\n",
    "\n",
    "\n",
    "The files in this folder contain México's cartographic data collated by the Instituto Nacional de Estadística, Geografía e Informática. (https://www.inegi.org.mx/). This data is encoded using the National Geostatistical Framework, which is designed to correctly reference statistical information with the corresponding geographical locations; this is understood as the delimitation of the Mexican Republic into three levels of disaggregation, called Geostatistical Areas: AGEE, AGEM, and AGEB.\n",
    "\n",
    "- **AGEE** stands for Área Geoestadística Estatal, which translates to State Geo-Statistical Area. These units are used to organize data collection and analysis at the state level. AGEEs are designed to facilitate collecting and analyzing data related to demographic, economic, social, and geographic characteristics at the state level. Each AGEE corresponds to one of the 32 states of Mexico, which include 31 states and Mexico City (the capital). AGEEs are assigned a consecutive code of two digits (01 to 32).\n",
    "\n",
    "- **AGEM** stands for Área Geoestadística Municipal, which translates to Municipal Geo-Statistical Area. These units are used to organize data collection and analysis at the municipal level, providing a detailed view of each municipality. AGEMs are designed to facilitate the collection and analysis of data related to demographic, economic, social, and geographic characteristics at the municipal level.Each AGEM corresponds to a municipality, which is the second-level administrative division in Mexico, after states. Mexico is divided into 32 states, which are further subdivided into 2,457 municipalities. The AGEM is assigned a three-digit code that is not always consecutive, nor necessarily according to the alphabetical order of the municipalities that make up the state, ensuring a precise identification of each municipality.\n",
    "\n",
    "- **AGEB** stands for Área Geoestadística Básica, which translates to Basic Geo-Statistical Area. These are the smallest geographic units used for census and statistical purposes in urban and rural areas. AGEBS are used to organize data collection and analysis in a systematic and detailed manner, ensuring that demographic, economic, and geographic data can be accurately collected and analyzed. There are two types of AGEBS. Urban AGEBs are found within cities and towns, often defined by blocks or clusters of blocks, and are used to provide detailed urban statistics. Rural AGEBS cover larger areas in rural regions, which can include multiple communities or settlements. Each AGEB has been assigned a code made up of three numbers, a hyphen, and a number called the verification digit, which goes from 0 to 9 or the letter A. This systematic approach ensures a thorough data collection and analysis process.\n"
   ]
  },
  {
   "cell_type": "code",
   "execution_count": null,
   "id": "3ea7f6a5-c7cf-4316-949f-8d9e413eabec",
   "metadata": {},
   "outputs": [],
   "source": []
  }
 ],
 "metadata": {
  "kernelspec": {
   "display_name": "Python 3 (ipykernel)",
   "language": "python",
   "name": "python3"
  },
  "language_info": {
   "codemirror_mode": {
    "name": "ipython",
    "version": 3
   },
   "file_extension": ".py",
   "mimetype": "text/x-python",
   "name": "python",
   "nbconvert_exporter": "python",
   "pygments_lexer": "ipython3",
   "version": "3.8.19"
  }
 },
 "nbformat": 4,
 "nbformat_minor": 5
}
