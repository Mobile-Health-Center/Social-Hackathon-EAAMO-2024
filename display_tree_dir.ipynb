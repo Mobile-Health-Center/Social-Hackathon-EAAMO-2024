{
 "cells": [
  {
   "cell_type": "code",
   "execution_count": 1,
   "id": "b1588aca-1736-420f-8ef9-0f11dc58b78d",
   "metadata": {},
   "outputs": [],
   "source": [
    "from pathlib import Path\n",
    "from itertools import islice\n",
    "\n",
    "space =  '    '\n",
    "branch = '│   '\n",
    "tee =    '├── '\n",
    "last =   '└── '\n"
   ]
  },
  {
   "cell_type": "code",
   "execution_count": 2,
   "id": "65e6bfc1-e795-4808-8136-1b30a7afb507",
   "metadata": {},
   "outputs": [],
   "source": [
    "def tree(dir_path: Path, level: int=-1, limit_to_directories: bool=False,\n",
    "         length_limit: int=1000):\n",
    "    \"\"\"Given a directory Path object print a visual tree structure\"\"\"\n",
    "    dir_path = Path(dir_path) # accept string coerceable to Path\n",
    "    files = 0\n",
    "    directories = 0\n",
    "    def inner(dir_path: Path, prefix: str='', level=-1):\n",
    "        nonlocal files, directories\n",
    "        if not level: \n",
    "            return # 0, stop iterating\n",
    "        if limit_to_directories:\n",
    "            contents = [d for d in dir_path.iterdir() if d.is_dir()]\n",
    "        else: \n",
    "            contents = list(dir_path.iterdir())\n",
    "        pointers = [tee] * (len(contents) - 1) + [last]\n",
    "        for pointer, path in zip(pointers, contents):\n",
    "            if path.is_dir():\n",
    "                yield prefix + pointer + path.name\n",
    "                directories += 1\n",
    "                extension = branch if pointer == tee else space \n",
    "                yield from inner(path, prefix=prefix+extension, level=level-1)\n",
    "            elif not limit_to_directories:\n",
    "                yield prefix + pointer + path.name\n",
    "                files += 1\n",
    "    print(dir_path.name)\n",
    "    iterator = inner(dir_path, level=level)\n",
    "    for line in islice(iterator, length_limit):\n",
    "        print(line)\n",
    "    if next(iterator, None):\n",
    "        print(f'... length_limit, {length_limit}, reached, counted:')\n",
    "    print(f'\\n{directories} directories' + (f', {files} files' if files else ''))"
   ]
  },
  {
   "cell_type": "code",
   "execution_count": 4,
   "id": "3449577d-db60-4308-a59c-de241cfccd6c",
   "metadata": {},
   "outputs": [
    {
     "name": "stdout",
     "output_type": "stream",
     "text": [
      "dataset\n",
      "├── .DS_Store\n",
      "├── SLPMA\n",
      "│   ├── .DS_Store\n",
      "│   └── geometry\n",
      "│       ├── .DS_Store\n",
      "│       └── 2023_1_24_A\n",
      "│           ├── 2023_1_24_A.prj\n",
      "│           ├── 2023_1_24_A.dbf\n",
      "│           ├── 2023_1_24_A.shx\n",
      "│           ├── 2023_1_24_A.cpg\n",
      "│           └── 2023_1_24_A.shp\n",
      "├── San Luis Potosi\n",
      "│   ├── .DS_Store\n",
      "│   └── geometry\n",
      "│       ├── .DS_Store\n",
      "│       └── 2023_1_24_MUN\n",
      "│           ├── 2023_1_24_MUN.cpg\n",
      "│           ├── 2023_1_24_MUN.shp\n",
      "│           ├── 2023_1_24_MUN.shx\n",
      "│           ├── 2023_1_24_MUN.dbf\n",
      "│           └── 2023_1_24_MUN.prj\n",
      "└── Mexico\n",
      "    ├── emissions\n",
      "    │   ├── .DS_Store\n",
      "    │   └── emissions.csv\n",
      "    ├── .DS_Store\n",
      "    ├── bc_mortality\n",
      "    │   ├── .DS_Store\n",
      "    │   └── bdmortalidadcamabase.csv\n",
      "    ├── geometry\n",
      "    │   ├── 2023_1_00_MUN\n",
      "    │   │   ├── 2023_1_00_MUN.dbf\n",
      "    │   │   ├── 2023_1_00_MUN.shx\n",
      "    │   │   ├── 2023_1_00_MUN.shp\n",
      "    │   │   ├── 2023_1_00_MUN.cpg\n",
      "    │   │   └── 2023_1_00_MUN.prj\n",
      "    │   └── .DS_Store\n",
      "    ├── stationary_fuel_pollution_sources\n",
      "    │   ├── .DS_Store\n",
      "    │   └── stationary_fuel_pollution_sources.csv\n",
      "    └── stationary_pollution_sources\n",
      "        ├── .DS_Store\n",
      "        └── stationary_pollution_sources.csv\n",
      "\n",
      "13 directories, 30 files\n"
     ]
    }
   ],
   "source": [
    "tree(Path.home() / 'Mobile Health Center/Projects/Social Hackathon EAAMO 2024/dataset')"
   ]
  },
  {
   "cell_type": "code",
   "execution_count": null,
   "id": "62a102ea-2ae0-4694-8b9f-3602fa5de46a",
   "metadata": {},
   "outputs": [],
   "source": []
  }
 ],
 "metadata": {
  "kernelspec": {
   "display_name": "Python 3 (ipykernel)",
   "language": "python",
   "name": "python3"
  },
  "language_info": {
   "codemirror_mode": {
    "name": "ipython",
    "version": 3
   },
   "file_extension": ".py",
   "mimetype": "text/x-python",
   "name": "python",
   "nbconvert_exporter": "python",
   "pygments_lexer": "ipython3",
   "version": "3.8.19"
  }
 },
 "nbformat": 4,
 "nbformat_minor": 5
}
